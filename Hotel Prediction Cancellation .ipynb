{
 "cells": [
  {
   "cell_type": "markdown",
   "id": "f894a2f2",
   "metadata": {
    "colab_type": "text",
    "id": "6Ijg5wUCTQYG"
   },
   "source": [
    "# **Machine Learning with XGboost in Python**\n",
    "\n",
    "Welcome to this code-along, where we will use XGBoost to predict booking cancellations with gradient boosting, a powerful machine learning technique! Through this, you'll learn how to create, evaluate, and tune XGBoost models efficiently. There will be time to answer any questions, so please add them!\n",
    "\n",
    "## **The Dataset**\n",
    "\n",
    "The session's dataset is a CSV file named `hotel_bookings_clean.csv`, which contains data on hotel bookings. \n",
    "\n",
    "### **Acknowledgements**\n",
    "The dataset was downloaded on [Kaggle](https://www.kaggle.com/jessemostipak/hotel-booking-demand/). The data is originally from an article called [Hotel booking demand datasets](https://www.sciencedirect.com/science/article/pii/S2352340918315191) by Nuno Antonio, Ana de Almeida, and Luis Nunes. It was then cleaned by Thomas Mock and Antoine Bichat for [#TidyTuesday during the week of February 11th, 2020](https://github.com/rfordatascience/tidytuesday/blob/master/data/2020/2020-02-11/readme.md). For the purposes of this code-along, it was further pre-processed to have cleaner ready-to-use features (e.g., dropping irrelevant columns, one-hot-encoding). The dataset has the following [license](https://creativecommons.org/licenses/by/4.0/).\n",
    "\n",
    "### **Data Dictionary**\n",
    "\n",
    "It contains the **53 columns**:\n",
    "\n",
    "_For binary variables: `1` = true and `0` = false._\n",
    "\n",
    "#### **Target** \n",
    "- `is_canceled`: Binary variable indicating whether a booking was canceled\n",
    "\n",
    "#### **Features** \n",
    "- `lead time`: Number of days between booking date and arrival date\n",
    "- `arrival_date_week_number`, `arrival_date_day_of_month`, `arrival_date_month`: Week number, day date, and month number of arrival date \n",
    "- `stays_in_weekend_nights`, `stays_in_week_nights`: Number of weekend nights (Saturday and Sunday) and weeknights (Monday to Friday) the customer booked\n",
    "- `adults`,`children`,`babies`: Number of adults, children, babies booked for the stay\n",
    "- `is_repeated_guest`: Binary variable indicating whether the customer was a repeat guest \n",
    "- `previous_cancellations`: Number of prior bookings that were canceled by the customer\n",
    "- `previous_bookings_not_canceled`: Number of prior bookings that were not canceled by the customer\n",
    "- `required_car_parking_spaces`: Number of parking spaces requested by the customer\n",
    "- `total_of_special_requests`: Number of special requests made by the customer\n",
    "- `avg_daily_rate`: Average daily rate, as defined by dividing the sum of all lodging transactions by the total number of staying nights\n",
    "- `booked_by_company`: Binary variable indicating whether a company booked the booking\n",
    "- `booked_by_agent`: Binary variable indicating whether an agent booked the booking\n",
    "- `hotel_City`: Binary variable indicating whether the booked hotel is a \"City Hotel\"\n",
    "- `hotel_Resort`: Binary variable indicating whether the booked hotel is a \"Resort Hotel\"\n",
    "- `meal_BB`: Binary variable indicating whether a bed & breakfast meal was booked \n",
    "- `meal_HB`: Binary variable indicating whether a half board meal was booked\n",
    "- `meal_FB`: Binary variable indicating whether a full board meal was booked \n",
    "- `meal_No_meal`: Binary variable indicating whether there was no meal package booked \n",
    "- `market_segment_Aviation`, `market_segment_Complementary`, `market_segment_Corporate`, `market_segment_Direct`, `market_segment_Groups`, `market_segment_Offline_TA_TO`, `market_segment_Online_TA`, `market_segment_Undefined`: Indicates market segment designation with a value of `1`. \"TA\"= travel agent, \"TO\"= tour operators\n",
    "- `distribution_channel_Corporate`, `distribution_channel_Direct`, `distribution_channel_GDS`, `distribution_channel_TA_TO`, `distribution_channel_Undefined`: Indicates booking distribution channel with a value of `1`. \"TA\"= travel agent, \"TO\"= tour operators, \"GDS\" = Global Distribution System\n",
    "- `reserved_room_type_A`,`reserved_room_type_B`, `reserved_room_type_C`,`reserved_room_type_D`, `reserved_room_type_E`, `reserved_room_type_F`, `reserved_room_type_G`, `reserved_room_type_H`, `reserved_room_type_L`: Indicates code of room type reserved with a value of `1`. Code is presented instead of designation for anonymity reasons\n",
    "- `deposit_type_No_Deposit`: Binary variable indicating whether a deposit was made\n",
    "- `deposit_type_Non_Refund`: Binary variable indicating whether a deposit was made in the value of the total stay cost\n",
    "- `deposit_type_Refundable`: Binary variable indicating whether a deposit was made with a value under the total stay cost \n",
    "- `customer_type_Contract`: Binary variable indicating whether the booking has an allotment or other type of contract associated to it \n",
    "- `customer_type_Group`: Binary variable indicating whether the booking is associated to a group \n",
    "- `customer_type_Transient`: Binary variable indicating whether the booking is not part of a group or contract, and is not associated to other transient booking\n",
    "- `customer_type_Transient-Party`: Binary variable indicating whether the booking is transient, but is associated to at least another transient booking\n",
    "\n",
    "---\n",
    "\n"
   ]
  },
  {
   "cell_type": "markdown",
   "id": "178e0f98",
   "metadata": {
    "colab_type": "text",
    "id": "BMYfcKeDY85K"
   },
   "source": [
    "## **1. Getting to know our data**\n",
    "\n",
    "Let's get to know our columns and split our data into features and labels!"
   ]
  },
  {
   "cell_type": "code",
   "execution_count": 2,
   "id": "91a0d850",
   "metadata": {
    "colab": {},
    "colab_type": "code",
    "id": "EMQfyC7GUNhT"
   },
   "outputs": [],
   "source": [
    "# Import libraries\n",
    "import pandas as pd\n",
    "import xgboost as xgb # XGBoost typically uses the alias \"xgb\"\n",
    "import numpy as np"
   ]
  },
  {
   "cell_type": "code",
   "execution_count": 3,
   "id": "617bc09d",
   "metadata": {
    "colab": {
     "base_uri": "https://localhost:8080/",
     "height": 1000
    },
    "colab_type": "code",
    "id": "l8t_EwRNZPLB",
    "outputId": "f62f9e0f-324d-4fbc-b63e-3bc972e2065e"
   },
   "outputs": [
    {
     "name": "stdout",
     "output_type": "stream",
     "text": [
      "<class 'pandas.core.frame.DataFrame'>\n",
      "RangeIndex: 119210 entries, 0 to 119209\n",
      "Data columns (total 53 columns):\n",
      " #   Column                          Non-Null Count   Dtype  \n",
      "---  ------                          --------------   -----  \n",
      " 0   is_canceled                     119210 non-null  int64  \n",
      " 1   lead_time                       119210 non-null  int64  \n",
      " 2   arrival_date_week_number        119210 non-null  int64  \n",
      " 3   arrival_date_day_of_month       119210 non-null  int64  \n",
      " 4   arrival_date_month              119210 non-null  int64  \n",
      " 5   stays_in_weekend_nights         119210 non-null  int64  \n",
      " 6   stays_in_week_nights            119210 non-null  int64  \n",
      " 7   adults                          119210 non-null  int64  \n",
      " 8   children                        119206 non-null  float64\n",
      " 9   babies                          119210 non-null  int64  \n",
      " 10  is_repeated_guest               119210 non-null  int64  \n",
      " 11  previous_cancellations          119210 non-null  int64  \n",
      " 12  previous_bookings_not_canceled  119210 non-null  int64  \n",
      " 13  required_car_parking_spaces     119210 non-null  int64  \n",
      " 14  total_of_special_requests       119210 non-null  int64  \n",
      " 15  avg_daily_rate                  119210 non-null  float64\n",
      " 16  booked_by_company               119210 non-null  int64  \n",
      " 17  booked_by_agent                 119210 non-null  int64  \n",
      " 18  hotel_City                      119210 non-null  int64  \n",
      " 19  hotel_Resort                    119210 non-null  int64  \n",
      " 20  meal_BB                         119210 non-null  int64  \n",
      " 21  meal_FB                         119210 non-null  int64  \n",
      " 22  meal_HB                         119210 non-null  int64  \n",
      " 23  meal_No_meal                    119210 non-null  int64  \n",
      " 24  market_segment_Aviation         119210 non-null  int64  \n",
      " 25  market_segment_Complementary    119210 non-null  int64  \n",
      " 26  market_segment_Corporate        119210 non-null  int64  \n",
      " 27  market_segment_Direct           119210 non-null  int64  \n",
      " 28  market_segment_Groups           119210 non-null  int64  \n",
      " 29  market_segment_Offline_TA_TO    119210 non-null  int64  \n",
      " 30  market_segment_Online_TA        119210 non-null  int64  \n",
      " 31  market_segment_Undefined        119210 non-null  int64  \n",
      " 32  distribution_channel_Corporate  119210 non-null  int64  \n",
      " 33  distribution_channel_Direct     119210 non-null  int64  \n",
      " 34  distribution_channel_GDS        119210 non-null  int64  \n",
      " 35  distribution_channel_TA_TO      119210 non-null  int64  \n",
      " 36  distribution_channel_Undefined  119210 non-null  int64  \n",
      " 37  reserved_room_type_A            119210 non-null  int64  \n",
      " 38  reserved_room_type_B            119210 non-null  int64  \n",
      " 39  reserved_room_type_C            119210 non-null  int64  \n",
      " 40  reserved_room_type_D            119210 non-null  int64  \n",
      " 41  reserved_room_type_E            119210 non-null  int64  \n",
      " 42  reserved_room_type_F            119210 non-null  int64  \n",
      " 43  reserved_room_type_G            119210 non-null  int64  \n",
      " 44  reserved_room_type_H            119210 non-null  int64  \n",
      " 45  reserved_room_type_L            119210 non-null  int64  \n",
      " 46  deposit_type_No_Deposit         119210 non-null  int64  \n",
      " 47  deposit_type_Non_Refund         119210 non-null  int64  \n",
      " 48  deposit_type_Refundable         119210 non-null  int64  \n",
      " 49  customer_type_Contract          119210 non-null  int64  \n",
      " 50  customer_type_Group             119210 non-null  int64  \n",
      " 51  customer_type_Transient         119210 non-null  int64  \n",
      " 52  customer_type_Transient-Party   119210 non-null  int64  \n",
      "dtypes: float64(2), int64(51)\n",
      "memory usage: 48.2 MB\n"
     ]
    }
   ],
   "source": [
    "# Read in the dataset\n",
    "bookings = pd.read_csv('hotel_bookings_clean.csv')\n",
    "\n",
    "# List out our columns\n",
    "bookings.info()"
   ]
  },
  {
   "cell_type": "markdown",
   "id": "45d979d2",
   "metadata": {
    "colab_type": "text",
    "id": "zXUmEsbEegrs"
   },
   "source": [
    "It looks like we have 53 columns with 119,210 rows. All the datatypes are numeric and ready for use."
   ]
  },
  {
   "cell_type": "code",
   "execution_count": 4,
   "id": "66c24ef6",
   "metadata": {
    "colab": {
     "base_uri": "https://localhost:8080/",
     "height": 334
    },
    "colab_type": "code",
    "id": "IAfz_jiu0NjN",
    "outputId": "2bb653e9-37cc-48fe-cb66-966de9af1eea"
   },
   "outputs": [
    {
     "data": {
      "text/html": [
       "<div>\n",
       "<style scoped>\n",
       "    .dataframe tbody tr th:only-of-type {\n",
       "        vertical-align: middle;\n",
       "    }\n",
       "\n",
       "    .dataframe tbody tr th {\n",
       "        vertical-align: top;\n",
       "    }\n",
       "\n",
       "    .dataframe thead th {\n",
       "        text-align: right;\n",
       "    }\n",
       "</style>\n",
       "<table border=\"1\" class=\"dataframe\">\n",
       "  <thead>\n",
       "    <tr style=\"text-align: right;\">\n",
       "      <th></th>\n",
       "      <th>is_canceled</th>\n",
       "      <th>lead_time</th>\n",
       "      <th>arrival_date_week_number</th>\n",
       "      <th>arrival_date_day_of_month</th>\n",
       "      <th>arrival_date_month</th>\n",
       "      <th>stays_in_weekend_nights</th>\n",
       "      <th>stays_in_week_nights</th>\n",
       "      <th>adults</th>\n",
       "      <th>children</th>\n",
       "      <th>babies</th>\n",
       "      <th>...</th>\n",
       "      <th>reserved_room_type_G</th>\n",
       "      <th>reserved_room_type_H</th>\n",
       "      <th>reserved_room_type_L</th>\n",
       "      <th>deposit_type_No_Deposit</th>\n",
       "      <th>deposit_type_Non_Refund</th>\n",
       "      <th>deposit_type_Refundable</th>\n",
       "      <th>customer_type_Contract</th>\n",
       "      <th>customer_type_Group</th>\n",
       "      <th>customer_type_Transient</th>\n",
       "      <th>customer_type_Transient-Party</th>\n",
       "    </tr>\n",
       "  </thead>\n",
       "  <tbody>\n",
       "    <tr>\n",
       "      <th>count</th>\n",
       "      <td>119210.000000</td>\n",
       "      <td>119210.000000</td>\n",
       "      <td>119210.000000</td>\n",
       "      <td>119210.000000</td>\n",
       "      <td>119210.000000</td>\n",
       "      <td>119210.000000</td>\n",
       "      <td>119210.000000</td>\n",
       "      <td>119210.000000</td>\n",
       "      <td>119206.000000</td>\n",
       "      <td>119210.000000</td>\n",
       "      <td>...</td>\n",
       "      <td>119210.000000</td>\n",
       "      <td>119210.000000</td>\n",
       "      <td>119210.000000</td>\n",
       "      <td>119210.000000</td>\n",
       "      <td>119210.000000</td>\n",
       "      <td>119210.000000</td>\n",
       "      <td>119210.000000</td>\n",
       "      <td>119210.000000</td>\n",
       "      <td>119210.000000</td>\n",
       "      <td>119210.000000</td>\n",
       "    </tr>\n",
       "    <tr>\n",
       "      <th>mean</th>\n",
       "      <td>0.370766</td>\n",
       "      <td>104.109227</td>\n",
       "      <td>27.163376</td>\n",
       "      <td>15.798717</td>\n",
       "      <td>6.552051</td>\n",
       "      <td>0.927053</td>\n",
       "      <td>2.499195</td>\n",
       "      <td>1.859206</td>\n",
       "      <td>0.104047</td>\n",
       "      <td>0.007961</td>\n",
       "      <td>...</td>\n",
       "      <td>0.017549</td>\n",
       "      <td>0.005042</td>\n",
       "      <td>0.000050</td>\n",
       "      <td>0.876277</td>\n",
       "      <td>0.122364</td>\n",
       "      <td>0.001359</td>\n",
       "      <td>0.034158</td>\n",
       "      <td>0.004815</td>\n",
       "      <td>0.750575</td>\n",
       "      <td>0.210452</td>\n",
       "    </tr>\n",
       "    <tr>\n",
       "      <th>std</th>\n",
       "      <td>0.483012</td>\n",
       "      <td>106.875450</td>\n",
       "      <td>13.601107</td>\n",
       "      <td>8.781070</td>\n",
       "      <td>3.089796</td>\n",
       "      <td>0.995117</td>\n",
       "      <td>1.897106</td>\n",
       "      <td>0.575186</td>\n",
       "      <td>0.398842</td>\n",
       "      <td>0.097509</td>\n",
       "      <td>...</td>\n",
       "      <td>0.131305</td>\n",
       "      <td>0.070825</td>\n",
       "      <td>0.007094</td>\n",
       "      <td>0.329266</td>\n",
       "      <td>0.327707</td>\n",
       "      <td>0.036839</td>\n",
       "      <td>0.181636</td>\n",
       "      <td>0.069223</td>\n",
       "      <td>0.432682</td>\n",
       "      <td>0.407631</td>\n",
       "    </tr>\n",
       "    <tr>\n",
       "      <th>min</th>\n",
       "      <td>0.000000</td>\n",
       "      <td>0.000000</td>\n",
       "      <td>1.000000</td>\n",
       "      <td>1.000000</td>\n",
       "      <td>1.000000</td>\n",
       "      <td>0.000000</td>\n",
       "      <td>0.000000</td>\n",
       "      <td>0.000000</td>\n",
       "      <td>0.000000</td>\n",
       "      <td>0.000000</td>\n",
       "      <td>...</td>\n",
       "      <td>0.000000</td>\n",
       "      <td>0.000000</td>\n",
       "      <td>0.000000</td>\n",
       "      <td>0.000000</td>\n",
       "      <td>0.000000</td>\n",
       "      <td>0.000000</td>\n",
       "      <td>0.000000</td>\n",
       "      <td>0.000000</td>\n",
       "      <td>0.000000</td>\n",
       "      <td>0.000000</td>\n",
       "    </tr>\n",
       "    <tr>\n",
       "      <th>25%</th>\n",
       "      <td>0.000000</td>\n",
       "      <td>18.000000</td>\n",
       "      <td>16.000000</td>\n",
       "      <td>8.000000</td>\n",
       "      <td>4.000000</td>\n",
       "      <td>0.000000</td>\n",
       "      <td>1.000000</td>\n",
       "      <td>2.000000</td>\n",
       "      <td>0.000000</td>\n",
       "      <td>0.000000</td>\n",
       "      <td>...</td>\n",
       "      <td>0.000000</td>\n",
       "      <td>0.000000</td>\n",
       "      <td>0.000000</td>\n",
       "      <td>1.000000</td>\n",
       "      <td>0.000000</td>\n",
       "      <td>0.000000</td>\n",
       "      <td>0.000000</td>\n",
       "      <td>0.000000</td>\n",
       "      <td>1.000000</td>\n",
       "      <td>0.000000</td>\n",
       "    </tr>\n",
       "    <tr>\n",
       "      <th>50%</th>\n",
       "      <td>0.000000</td>\n",
       "      <td>69.000000</td>\n",
       "      <td>28.000000</td>\n",
       "      <td>16.000000</td>\n",
       "      <td>7.000000</td>\n",
       "      <td>1.000000</td>\n",
       "      <td>2.000000</td>\n",
       "      <td>2.000000</td>\n",
       "      <td>0.000000</td>\n",
       "      <td>0.000000</td>\n",
       "      <td>...</td>\n",
       "      <td>0.000000</td>\n",
       "      <td>0.000000</td>\n",
       "      <td>0.000000</td>\n",
       "      <td>1.000000</td>\n",
       "      <td>0.000000</td>\n",
       "      <td>0.000000</td>\n",
       "      <td>0.000000</td>\n",
       "      <td>0.000000</td>\n",
       "      <td>1.000000</td>\n",
       "      <td>0.000000</td>\n",
       "    </tr>\n",
       "    <tr>\n",
       "      <th>75%</th>\n",
       "      <td>1.000000</td>\n",
       "      <td>161.000000</td>\n",
       "      <td>38.000000</td>\n",
       "      <td>23.000000</td>\n",
       "      <td>9.000000</td>\n",
       "      <td>2.000000</td>\n",
       "      <td>3.000000</td>\n",
       "      <td>2.000000</td>\n",
       "      <td>0.000000</td>\n",
       "      <td>0.000000</td>\n",
       "      <td>...</td>\n",
       "      <td>0.000000</td>\n",
       "      <td>0.000000</td>\n",
       "      <td>0.000000</td>\n",
       "      <td>1.000000</td>\n",
       "      <td>0.000000</td>\n",
       "      <td>0.000000</td>\n",
       "      <td>0.000000</td>\n",
       "      <td>0.000000</td>\n",
       "      <td>1.000000</td>\n",
       "      <td>0.000000</td>\n",
       "    </tr>\n",
       "    <tr>\n",
       "      <th>max</th>\n",
       "      <td>1.000000</td>\n",
       "      <td>737.000000</td>\n",
       "      <td>53.000000</td>\n",
       "      <td>31.000000</td>\n",
       "      <td>12.000000</td>\n",
       "      <td>19.000000</td>\n",
       "      <td>50.000000</td>\n",
       "      <td>55.000000</td>\n",
       "      <td>10.000000</td>\n",
       "      <td>10.000000</td>\n",
       "      <td>...</td>\n",
       "      <td>1.000000</td>\n",
       "      <td>1.000000</td>\n",
       "      <td>1.000000</td>\n",
       "      <td>1.000000</td>\n",
       "      <td>1.000000</td>\n",
       "      <td>1.000000</td>\n",
       "      <td>1.000000</td>\n",
       "      <td>1.000000</td>\n",
       "      <td>1.000000</td>\n",
       "      <td>1.000000</td>\n",
       "    </tr>\n",
       "  </tbody>\n",
       "</table>\n",
       "<p>8 rows × 53 columns</p>\n",
       "</div>"
      ],
      "text/plain": [
       "         is_canceled      lead_time  arrival_date_week_number  \\\n",
       "count  119210.000000  119210.000000             119210.000000   \n",
       "mean        0.370766     104.109227                 27.163376   \n",
       "std         0.483012     106.875450                 13.601107   \n",
       "min         0.000000       0.000000                  1.000000   \n",
       "25%         0.000000      18.000000                 16.000000   \n",
       "50%         0.000000      69.000000                 28.000000   \n",
       "75%         1.000000     161.000000                 38.000000   \n",
       "max         1.000000     737.000000                 53.000000   \n",
       "\n",
       "       arrival_date_day_of_month  arrival_date_month  stays_in_weekend_nights  \\\n",
       "count              119210.000000       119210.000000            119210.000000   \n",
       "mean                   15.798717            6.552051                 0.927053   \n",
       "std                     8.781070            3.089796                 0.995117   \n",
       "min                     1.000000            1.000000                 0.000000   \n",
       "25%                     8.000000            4.000000                 0.000000   \n",
       "50%                    16.000000            7.000000                 1.000000   \n",
       "75%                    23.000000            9.000000                 2.000000   \n",
       "max                    31.000000           12.000000                19.000000   \n",
       "\n",
       "       stays_in_week_nights         adults       children         babies  ...  \\\n",
       "count         119210.000000  119210.000000  119206.000000  119210.000000  ...   \n",
       "mean               2.499195       1.859206       0.104047       0.007961  ...   \n",
       "std                1.897106       0.575186       0.398842       0.097509  ...   \n",
       "min                0.000000       0.000000       0.000000       0.000000  ...   \n",
       "25%                1.000000       2.000000       0.000000       0.000000  ...   \n",
       "50%                2.000000       2.000000       0.000000       0.000000  ...   \n",
       "75%                3.000000       2.000000       0.000000       0.000000  ...   \n",
       "max               50.000000      55.000000      10.000000      10.000000  ...   \n",
       "\n",
       "       reserved_room_type_G  reserved_room_type_H  reserved_room_type_L  \\\n",
       "count         119210.000000         119210.000000         119210.000000   \n",
       "mean               0.017549              0.005042              0.000050   \n",
       "std                0.131305              0.070825              0.007094   \n",
       "min                0.000000              0.000000              0.000000   \n",
       "25%                0.000000              0.000000              0.000000   \n",
       "50%                0.000000              0.000000              0.000000   \n",
       "75%                0.000000              0.000000              0.000000   \n",
       "max                1.000000              1.000000              1.000000   \n",
       "\n",
       "       deposit_type_No_Deposit  deposit_type_Non_Refund  \\\n",
       "count            119210.000000            119210.000000   \n",
       "mean                  0.876277                 0.122364   \n",
       "std                   0.329266                 0.327707   \n",
       "min                   0.000000                 0.000000   \n",
       "25%                   1.000000                 0.000000   \n",
       "50%                   1.000000                 0.000000   \n",
       "75%                   1.000000                 0.000000   \n",
       "max                   1.000000                 1.000000   \n",
       "\n",
       "       deposit_type_Refundable  customer_type_Contract  customer_type_Group  \\\n",
       "count            119210.000000           119210.000000        119210.000000   \n",
       "mean                  0.001359                0.034158             0.004815   \n",
       "std                   0.036839                0.181636             0.069223   \n",
       "min                   0.000000                0.000000             0.000000   \n",
       "25%                   0.000000                0.000000             0.000000   \n",
       "50%                   0.000000                0.000000             0.000000   \n",
       "75%                   0.000000                0.000000             0.000000   \n",
       "max                   1.000000                1.000000             1.000000   \n",
       "\n",
       "       customer_type_Transient  customer_type_Transient-Party  \n",
       "count            119210.000000                  119210.000000  \n",
       "mean                  0.750575                       0.210452  \n",
       "std                   0.432682                       0.407631  \n",
       "min                   0.000000                       0.000000  \n",
       "25%                   1.000000                       0.000000  \n",
       "50%                   1.000000                       0.000000  \n",
       "75%                   1.000000                       0.000000  \n",
       "max                   1.000000                       1.000000  \n",
       "\n",
       "[8 rows x 53 columns]"
      ]
     },
     "execution_count": 4,
     "metadata": {},
     "output_type": "execute_result"
    }
   ],
   "source": [
    "# Take a closer look at column distributions\n",
    "bookings.describe()"
   ]
  },
  {
   "cell_type": "code",
   "execution_count": 5,
   "id": "4b1821bf",
   "metadata": {
    "colab": {
     "base_uri": "https://localhost:8080/",
     "height": 496
    },
    "colab_type": "code",
    "id": "z_ckvohjegrx",
    "outputId": "b6ee4097-15b4-459f-b3ef-9afe121c90d9",
    "scrolled": true
   },
   "outputs": [
    {
     "data": {
      "text/plain": [
       "<AxesSubplot:>"
      ]
     },
     "execution_count": 5,
     "metadata": {},
     "output_type": "execute_result"
    },
    {
     "data": {
      "image/png": "[encoded data removed]",
      "text/plain": [
       "<Figure size 432x288 with 1 Axes>"
      ]
     },
     "metadata": {
      "needs_background": "light"
     },
     "output_type": "display_data"
    }
   ],
   "source": [
    "# Plot cancellation counts to visualize proportion of not cancelled and cancelled\n",
    "bookings['is_canceled'].value_counts().plot(kind=\"bar\")"
   ]
  },
  {
   "cell_type": "markdown",
   "id": "eef3abaf",
   "metadata": {
    "colab_type": "text",
    "id": "Qzk8fFnFegr2"
   },
   "source": [
    "We see that our data are quite imbalanced. Remember for our binary variables, like `is_canceled`, `1` = true and `0` = false."
   ]
  },
  {
   "cell_type": "code",
   "execution_count": 6,
   "id": "329c92da",
   "metadata": {
    "colab": {
     "base_uri": "https://localhost:8080/",
     "height": 68
    },
    "colab_type": "code",
    "id": "fd6-3_wcegr3",
    "outputId": "2504d1c2-80c0-4ed8-e3d0-a0f9ebaf5256"
   },
   "outputs": [
    {
     "data": {
      "text/plain": [
       "0    0.629234\n",
       "1    0.370766\n",
       "Name: is_canceled, dtype: float64"
      ]
     },
     "execution_count": 6,
     "metadata": {},
     "output_type": "execute_result"
    }
   ],
   "source": [
    "# Get an exact percentage of not cancelled and cancelled\n",
    "bookings['is_canceled'].value_counts()/bookings[\"is_canceled\"].count()"
   ]
  },
  {
   "cell_type": "markdown",
   "id": "a4f354c4",
   "metadata": {
    "colab_type": "text",
    "id": "Skna413fegsI"
   },
   "source": [
    "### **Splitting data**\n",
    "Let's split our label and features so we can get to building models! The first column is our target label `is_canceled`. The rest are features."
   ]
  },
  {
   "cell_type": "code",
   "execution_count": 7,
   "id": "16eb39e6",
   "metadata": {
    "colab": {},
    "colab_type": "code",
    "id": "yNORyt4JegsJ"
   },
   "outputs": [],
   "source": [
    "# Define X and y\n",
    "X, y =bookings.iloc[:,1:], bookings.iloc[:,0]"
   ]
  },
  {
   "cell_type": "markdown",
   "id": "a5786737",
   "metadata": {
    "colab_type": "text",
    "id": "W9m1kfpxegsL",
    "tags": []
   },
   "source": [
    "## **2. Your First XGBoost Classifier**\n",
    "\n",
    "XGBoost has a  [scikit-learn API](https://xgboost.readthedocs.io/en/latest/python/python_api.html#module-xgboost.sklearn), which is useful if you want to use different scikit-learn classes and methods on an XGBoost model (e.g.,`predict()`, `fit()`).  In this section, we'll try the API out with the `xgboost.XGBClassifier()` class and get a baseline accuracy for the rest of our work. So that our results are reproducible, we'll set the `random_state=123`.\n",
    "\n",
    "As a reminder, gradient boosting sequentially trains weak learners where each weak learner tries to correct its predecessor's mistakes. First, we'll instantiate a simple XGBoost classifier without changing any of the other parameters, and we'll inspect its parameters."
   ]
  },
  {
   "cell_type": "code",
   "execution_count": 8,
   "id": "361fbdfc",
   "metadata": {
    "colab": {
     "base_uri": "https://localhost:8080/",
     "height": 408
    },
    "colab_type": "code",
    "id": "8zMyC5qkegsM",
    "outputId": "f51c4b33-9c7f-4ee2-f54e-b31ce36ec3bf"
   },
   "outputs": [
    {
     "data": {
      "text/plain": [
       "{'objective': 'binary:logistic',\n",
       " 'use_label_encoder': True,\n",
       " 'base_score': None,\n",
       " 'booster': None,\n",
       " 'colsample_bylevel': None,\n",
       " 'colsample_bynode': None,\n",
       " 'colsample_bytree': None,\n",
       " 'enable_categorical': False,\n",
       " 'gamma': None,\n",
       " 'gpu_id': None,\n",
       " 'importance_type': None,\n",
       " 'interaction_constraints': None,\n",
       " 'learning_rate': None,\n",
       " 'max_delta_step': None,\n",
       " 'max_depth': None,\n",
       " 'min_child_weight': None,\n",
       " 'missing': nan,\n",
       " 'monotone_constraints': None,\n",
       " 'n_estimators': 100,\n",
       " 'n_jobs': None,\n",
       " 'num_parallel_tree': None,\n",
       " 'predictor': None,\n",
       " 'random_state': 123,\n",
       " 'reg_alpha': None,\n",
       " 'reg_lambda': None,\n",
       " 'scale_pos_weight': None,\n",
       " 'subsample': None,\n",
       " 'tree_method': None,\n",
       " 'validate_parameters': None,\n",
       " 'verbosity': None}"
      ]
     },
     "execution_count": 8,
     "metadata": {},
     "output_type": "execute_result"
    }
   ],
   "source": [
    "from sklearn.model_selection import train_test_split\n",
    "import xgboost as xgb\n",
    "# Train and test split using sklearn\n",
    "X_train, X_test, y_train, y_test = train_test_split(X, y, test_size=0.3, random_state=123)\n",
    "\n",
    "# Instatiate a XGBClassifier \n",
    "xgb_clf=xgb.XGBClassifier(random_state=123)\n",
    "\n",
    "# Inspect the parameters\n",
    "xgb_clf.get_params()"
   ]
  },
  {
   "cell_type": "markdown",
   "id": "c5886f78",
   "metadata": {
    "colab_type": "text",
    "id": "Z3akjIVVegsP"
   },
   "source": [
    "There's a couple of things to note:\n",
    "- The `booster` parameter is `gbtree`.  This means the weak learners, or boosters, are decision trees in this model. `gbtree` is the default, and we will keep it this way.\n",
    "- The `objective` function, or loss function, is defined as `binary:logistic`. The objective function quantifies how far off a prediction is from the actual results. We want to minimize this to have the smallest possible loss. `binary:logistic` is the default for classifiers. `binary:logistic` outputs the actual predicted probability of the positive class (in our case, that a booking is cancelled).\n",
    "- `n_estimators` is the number of gradient boosted trees we want in our model. It's equivalent to the number of boosting rounds. For our purposes, we don't want too many boosting rounds, or training will take too long.\n",
    "\n",
    "<p align=\"center\">\n",
    "<img src=\"https://github.com/datacamp/Machine-Learning-With-XGboost-live-training/blob/master/assets/n_estimators.png?raw=true\" width = \"70%\"> \n",
    "</p>\n",
    "\n",
    "<br>\n",
    "\n",
    "- `max_depth` is the maximum tree depth allowed. Tree depth is the length of the longest path from the root node to a leaf node. Making this too high will give our model more variance, or more potential to overfit. Similar to `n_estimators`, the more we increase this, the longer our training period will be. \n",
    "\n",
    "\n",
    "<p align=\"center\">\n",
    "<img src=\"https://github.com/datacamp/Machine-Learning-With-XGboost-live-training/blob/master/assets/max_depth.png?raw=true\" width = \"25%\"> \n",
    "</p>\n",
    "\n",
    "- For our `eval_metric` (evaluation metric for validation data), we will use `error` as defined by [XGBoost documentation](https://xgboost.readthedocs.io/en/latest/parameter.html):\n",
    "\n",
    "> Binary classification error rate. It is calculated as #(wrong cases)/#(all cases). For the predictions, the evaluation will regard the instances with prediction value larger than 0.5 as positive instances, and the others as negative instances."
   ]
  },
  {
   "cell_type": "code",
   "execution_count": 14,
   "id": "728a84b1",
   "metadata": {
    "colab": {},
    "colab_type": "code",
    "id": "fcHSOw6FegsP"
   },
   "outputs": [
    {
     "name": "stdout",
     "output_type": "stream",
     "text": [
      "The accuracy score is 0.8472163968347175\n",
      "The f1 score is 0.7964535836686037\n",
      "The precision score is 0.7842993396918562\n",
      "The recall score is 0.8089904646586953\n"
     ]
    }
   ],
   "source": [
    "# We import the appropriate functions as we will make GridSearch\n",
    "from sklearn.model_selection import StratifiedKFold, GridSearchCV\n",
    "from sklearn.metrics import accuracy_score, f1_score, confusion_matrix, classification_report, precision_score,recall_score\n",
    "\n",
    "# First we define the grid as dictionary\n",
    "param_grid={'n_estimators':[600],\n",
    "            'max_depth':[8],\n",
    "            'learning_rate':[0.3],\n",
    "            'gamma':[0.01],\n",
    "            'scale_pos_weight':[1],\n",
    "            \"min_child_weight\":[1],\n",
    "            'colsample_bytree':[1],'max_delta_step':[5]}\n",
    "\n",
    "# We define our Stratified folds and run the algorithm\n",
    "xgb_clf=xgb.XGBClassifier(objective=\"binary:logistic\", eval_metric=\"error\",random_state=123,n_estimators=600,max_depth=8,\n",
    "                          learning_rate=0.3,gamma=0.01,scale_pos_weight=2,colsample_bytree=1,max_delta_step=5,use_label_encoder=False)\n",
    "xgb_clf.fit(X_train,y_train)\n",
    "preds=xgb_clf.predict(X_test)\n",
    "print(\"The accuracy score is\", accuracy_score(y_test,preds))\n",
    "print(\"The f1 score is\", f1_score(y_test,preds))\n",
    "print(\"The precision score is\", precision_score(y_test,preds))\n",
    "print(\"The recall score is\", recall_score(y_test,preds))\n"
   ]
  },
  {
   "cell_type": "code",
   "execution_count": 24,
   "id": "a67205f6",
   "metadata": {},
   "outputs": [
    {
     "name": "stdout",
     "output_type": "stream",
     "text": [
      "              precision    recall  f1-score   support\n",
      "\n",
      "           0       0.90      0.83      0.86     22549\n",
      "           1       0.75      0.84      0.79     13214\n",
      "\n",
      "    accuracy                           0.84     35763\n",
      "   macro avg       0.82      0.84      0.83     35763\n",
      "weighted avg       0.84      0.84      0.84     35763\n",
      "\n",
      "[[18794  3755]\n",
      " [ 2116 11098]]\n"
     ]
    }
   ],
   "source": [
    "preds2=(xgb_clf.predict_proba(X_test)[:,1] >=0.4).astype(int)\n",
    "print(classification_report(y_test, preds2))\n",
    "print(confusion_matrix(y_test, preds2))"
   ]
  },
  {
   "cell_type": "markdown",
   "id": "3b217527",
   "metadata": {
    "colab_type": "text",
    "id": "0RkrUrV5egsS"
   },
   "source": [
    "We are going to use **accuracy** as our metric for this problem since we only have two classes, and the smallest class takes ~37% of the data. For our problem maybe the hotel would like not to overbook and commit resources that can not be used. So, it seems that <b> False Negative </b> is more important for our case. In our case false negative means to say that the customers will not cancel their reservation while in fact they will cancel it. That's why a threshold of 0.4 was chosen."
   ]
  },
  {
   "cell_type": "markdown",
   "id": "523e1dc7",
   "metadata": {},
   "source": [
    "### **Creating our confusion matrix**\n",
    "\n",
    "The confusion matrix above does not say much. It would be better, if we made our confusion matrix more understandable for the reader!"
   ]
  },
  {
   "cell_type": "code",
   "execution_count": 28,
   "id": "3a3cf642",
   "metadata": {},
   "outputs": [
    {
     "data": {
      "image/png": "[encoded data removed]",
      "text/plain": [
       "<Figure size 432x288 with 2 Axes>"
      ]
     },
     "metadata": {
      "needs_background": "light"
     },
     "output_type": "display_data"
    }
   ],
   "source": [
    "import matplotlib.pyplot as plt\n",
    "from sklearn.datasets import make_classification\n",
    "from sklearn.metrics import confusion_matrix, ConfusionMatrixDisplay\n",
    "cm=confusion_matrix(y_test, preds2, labels=xgb_clf.classes_)\n",
    "disp=ConfusionMatrixDisplay(confusion_matrix=cm, display_labels=xgb_clf.classes_)\n",
    "disp.plot()\n",
    "plt.show()"
   ]
  },
  {
   "cell_type": "markdown",
   "id": "f733fb1b",
   "metadata": {},
   "source": [
    "### **Visualizing the ROC curve**"
   ]
  },
  {
   "cell_type": "code",
   "execution_count": 30,
   "id": "99ca2003",
   "metadata": {},
   "outputs": [
    {
     "data": {
      "image/png": "[encoded data removed]",
      "text/plain": [
       "<Figure size 432x288 with 1 Axes>"
      ]
     },
     "metadata": {
      "needs_background": "light"
     },
     "output_type": "display_data"
    }
   ],
   "source": [
    "#now lets visualize our roc curve\n",
    "from sklearn import metrics\n",
    "metrics.plot_roc_curve(xgb_clf, X_test, y_test)\n",
    "plt.show()"
   ]
  },
  {
   "cell_type": "markdown",
   "id": "49fceb58",
   "metadata": {
    "colab_type": "text",
    "id": "nvfTM4FBegsW"
   },
   "source": [
    "### **Visualizing your tree**\n",
    "\n",
    "`XGBoost` has two handy visualization functions for interpreting results.\n",
    "\n",
    "The first is `plot_importance()`  which plots feature importance, meaning, how predictive each feature is for the target variable. It takes in the fitted XGBoost model.\n",
    "\n",
    "\n",
    "#### **Plotting feature importance**"
   ]
  },
  {
   "cell_type": "code",
   "execution_count": 56,
   "id": "da2dcd3c",
   "metadata": {
    "colab": {
     "base_uri": "https://localhost:8080/",
     "height": 530
    },
    "colab_type": "code",
    "id": "MkPtO3AHegsX",
    "outputId": "93fe3f79-307a-4b84-913d-58d230be3405"
   },
   "outputs": [
    {
     "data": {
      "text/plain": [
       "<AxesSubplot:title={'center':'Feature importance'}, xlabel='F score', ylabel='Features'>"
      ]
     },
     "execution_count": 56,
     "metadata": {},
     "output_type": "execute_result"
    },
    {
     "data": {
      "image/png": "[encoded data removed]",
      "text/plain": [
       "<Figure size 720x576 with 1 Axes>"
      ]
     },
     "metadata": {
      "needs_background": "light"
     },
     "output_type": "display_data"
    }
   ],
   "source": [
    "import matplotlib.pylab as plt\n",
    "from matplotlib import pyplot\n",
    "from xgboost import plot_importance\n",
    "\n",
    "matplotlib.rcParams['figure.figsize'] = (10.0, 8)\n",
    "\n",
    "# Plot feature importance\n",
    "plot_importance(xgb_clf,max_num_features=15)"
   ]
  },
  {
   "cell_type": "markdown",
   "id": "d8676b08",
   "metadata": {
    "colab_type": "text",
    "id": "iBbBCvs5egsa"
   },
   "source": [
    "How is importance calculated? Here's an excerpt from the [documentation](https://xgboost.readthedocs.io/en/latest/python/python_api.html#module-xgboost.plotting):\n",
    "\n",
    "> **importance_type (str, default \"weight\") –**\n",
    "> How the importance is calculated: either “weight”, “gain”, or “cover”\n",
    "> - ”weight” is the number of times a feature appears in a tree\n",
    "> - ”gain” is the average gain of splits which use the feature\n",
    "> - ”cover” is the average coverage of splits which use the feature where coverage is defined as the number of samples affected by the split\n",
    "\n",
    "We'll focus on the first two. Gain is a way to quantify how much a feature contributes to improving accuracy. Let's try out `gain` to see how it differs from `weight`."
   ]
  },
  {
   "cell_type": "code",
   "execution_count": 57,
   "id": "948ea99c",
   "metadata": {
    "colab": {
     "base_uri": "https://localhost:8080/",
     "height": 530
    },
    "colab_type": "code",
    "id": "erGG0M4xegsa",
    "outputId": "e404856a-0017-4229-99e4-3616b5274bf1"
   },
   "outputs": [
    {
     "data": {
      "text/plain": [
       "<AxesSubplot:title={'center':'Feature importance'}, xlabel='F score', ylabel='Features'>"
      ]
     },
     "execution_count": 57,
     "metadata": {},
     "output_type": "execute_result"
    },
    {
     "data": {
      "image/png": "[encoded data removed]",
      "text/plain": [
       "<Figure size 720x576 with 1 Axes>"
      ]
     },
     "metadata": {
      "needs_background": "light"
     },
     "output_type": "display_data"
    }
   ],
   "source": [
    "# Plot gain instead of weight\n",
    "# Plot feature importance\n",
    "plot_importance(xgb_clf,max_num_features=15,importance_type=\"gain\")"
   ]
  },
  {
   "cell_type": "markdown",
   "id": "d3fac781",
   "metadata": {
    "colab_type": "text",
    "id": "rRzPiziPegsd"
   },
   "source": [
    "Here we see the ordering of features differs quite a bit between `gain` and `weight`! This implies that (1) feature importance can be subjective, and (2) the number of appearances a feature has on a tree is not necessarily correlated to how much gain it brings. For example, a binary variable has less of a chance to appear as many times as a continuous variable on a tree, since there are only two outputs. However, it can still be a powerful feature."
   ]
  }
 ],
 "metadata": {
  "colab": {
   "name": "Machine_Learning_with_XGBoost_solution.ipynb",
   "provenance": []
  },
  "kernelspec": {
   "display_name": "Python 3 (ipykernel)",
   "language": "python",
   "name": "python3"
  },
  "language_info": {
   "codemirror_mode": {
    "name": "ipython",
    "version": 3
   },
   "file_extension": ".py",
   "mimetype": "text/x-python",
   "name": "python",
   "nbconvert_exporter": "python",
   "pygments_lexer": "ipython3",
   "version": "3.9.7"
  }
 },
 "nbformat": 4,
 "nbformat_minor": 5
}
